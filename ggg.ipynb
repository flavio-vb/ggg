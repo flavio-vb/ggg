{
  "nbformat": 4,
  "nbformat_minor": 0,
  "metadata": {
    "colab": {
      "name": "ggg.ipynb",
      "provenance": [],
      "collapsed_sections": [],
      "toc_visible": true
    },
    "kernelspec": {
      "name": "python3",
      "display_name": "Python 3"
    }
  },
  "cells": [
    {
      "cell_type": "code",
      "metadata": {
        "id": "DnvnF4ol5CL5",
        "colab_type": "code",
        "outputId": "bd9124ac-23ee-4861-a364-5291d25d86e7",
        "colab": {
          "base_uri": "https://localhost:8080/",
          "height": 391
        }
      },
      "source": [
        "%matplotlib inline\n",
        "\n",
        "import pandas as pd\n",
        "import matplotlib.pyplot as plt\n",
        "import seaborn as sns\n",
        "\n",
        "data2 = pd.read_csv(\"test.csv\")\n",
        "data1 = pd.read_csv(\"train.csv\")\n",
        "data1"
      ],
      "execution_count": 0,
      "outputs": [
        {
          "output_type": "execute_result",
          "data": {
            "text/html": [
              "<div>\n",
              "<style scoped>\n",
              "    .dataframe tbody tr th:only-of-type {\n",
              "        vertical-align: middle;\n",
              "    }\n",
              "\n",
              "    .dataframe tbody tr th {\n",
              "        vertical-align: top;\n",
              "    }\n",
              "\n",
              "    .dataframe thead th {\n",
              "        text-align: right;\n",
              "    }\n",
              "</style>\n",
              "<table border=\"1\" class=\"dataframe\">\n",
              "  <thead>\n",
              "    <tr style=\"text-align: right;\">\n",
              "      <th></th>\n",
              "      <th>id</th>\n",
              "      <th>bone_length</th>\n",
              "      <th>rotting_flesh</th>\n",
              "      <th>hair_length</th>\n",
              "      <th>has_soul</th>\n",
              "      <th>color</th>\n",
              "      <th>type</th>\n",
              "    </tr>\n",
              "  </thead>\n",
              "  <tbody>\n",
              "    <tr>\n",
              "      <th>0</th>\n",
              "      <td>0</td>\n",
              "      <td>0.354512</td>\n",
              "      <td>0.350839</td>\n",
              "      <td>0.465761</td>\n",
              "      <td>0.781142</td>\n",
              "      <td>clear</td>\n",
              "      <td>Ghoul</td>\n",
              "    </tr>\n",
              "    <tr>\n",
              "      <th>1</th>\n",
              "      <td>1</td>\n",
              "      <td>0.575560</td>\n",
              "      <td>0.425868</td>\n",
              "      <td>0.531401</td>\n",
              "      <td>0.439899</td>\n",
              "      <td>green</td>\n",
              "      <td>Goblin</td>\n",
              "    </tr>\n",
              "    <tr>\n",
              "      <th>2</th>\n",
              "      <td>2</td>\n",
              "      <td>0.467875</td>\n",
              "      <td>0.354330</td>\n",
              "      <td>0.811616</td>\n",
              "      <td>0.791225</td>\n",
              "      <td>black</td>\n",
              "      <td>Ghoul</td>\n",
              "    </tr>\n",
              "    <tr>\n",
              "      <th>3</th>\n",
              "      <td>4</td>\n",
              "      <td>0.776652</td>\n",
              "      <td>0.508723</td>\n",
              "      <td>0.636766</td>\n",
              "      <td>0.884464</td>\n",
              "      <td>black</td>\n",
              "      <td>Ghoul</td>\n",
              "    </tr>\n",
              "    <tr>\n",
              "      <th>4</th>\n",
              "      <td>5</td>\n",
              "      <td>0.566117</td>\n",
              "      <td>0.875862</td>\n",
              "      <td>0.418594</td>\n",
              "      <td>0.636438</td>\n",
              "      <td>green</td>\n",
              "      <td>Ghost</td>\n",
              "    </tr>\n",
              "    <tr>\n",
              "      <th>...</th>\n",
              "      <td>...</td>\n",
              "      <td>...</td>\n",
              "      <td>...</td>\n",
              "      <td>...</td>\n",
              "      <td>...</td>\n",
              "      <td>...</td>\n",
              "      <td>...</td>\n",
              "    </tr>\n",
              "    <tr>\n",
              "      <th>366</th>\n",
              "      <td>886</td>\n",
              "      <td>0.458132</td>\n",
              "      <td>0.391760</td>\n",
              "      <td>0.660590</td>\n",
              "      <td>0.635689</td>\n",
              "      <td>blue</td>\n",
              "      <td>Goblin</td>\n",
              "    </tr>\n",
              "    <tr>\n",
              "      <th>367</th>\n",
              "      <td>889</td>\n",
              "      <td>0.331936</td>\n",
              "      <td>0.564836</td>\n",
              "      <td>0.539216</td>\n",
              "      <td>0.551471</td>\n",
              "      <td>green</td>\n",
              "      <td>Ghost</td>\n",
              "    </tr>\n",
              "    <tr>\n",
              "      <th>368</th>\n",
              "      <td>890</td>\n",
              "      <td>0.481640</td>\n",
              "      <td>0.501147</td>\n",
              "      <td>0.496446</td>\n",
              "      <td>0.544003</td>\n",
              "      <td>clear</td>\n",
              "      <td>Ghoul</td>\n",
              "    </tr>\n",
              "    <tr>\n",
              "      <th>369</th>\n",
              "      <td>896</td>\n",
              "      <td>0.294943</td>\n",
              "      <td>0.771286</td>\n",
              "      <td>0.583503</td>\n",
              "      <td>0.300618</td>\n",
              "      <td>clear</td>\n",
              "      <td>Ghost</td>\n",
              "    </tr>\n",
              "    <tr>\n",
              "      <th>370</th>\n",
              "      <td>897</td>\n",
              "      <td>0.670200</td>\n",
              "      <td>0.768469</td>\n",
              "      <td>0.737274</td>\n",
              "      <td>0.608384</td>\n",
              "      <td>white</td>\n",
              "      <td>Ghoul</td>\n",
              "    </tr>\n",
              "  </tbody>\n",
              "</table>\n",
              "<p>371 rows × 7 columns</p>\n",
              "</div>"
            ],
            "text/plain": [
              "      id  bone_length  rotting_flesh  hair_length  has_soul  color    type\n",
              "0      0     0.354512       0.350839     0.465761  0.781142  clear   Ghoul\n",
              "1      1     0.575560       0.425868     0.531401  0.439899  green  Goblin\n",
              "2      2     0.467875       0.354330     0.811616  0.791225  black   Ghoul\n",
              "3      4     0.776652       0.508723     0.636766  0.884464  black   Ghoul\n",
              "4      5     0.566117       0.875862     0.418594  0.636438  green   Ghost\n",
              "..   ...          ...            ...          ...       ...    ...     ...\n",
              "366  886     0.458132       0.391760     0.660590  0.635689   blue  Goblin\n",
              "367  889     0.331936       0.564836     0.539216  0.551471  green   Ghost\n",
              "368  890     0.481640       0.501147     0.496446  0.544003  clear   Ghoul\n",
              "369  896     0.294943       0.771286     0.583503  0.300618  clear   Ghost\n",
              "370  897     0.670200       0.768469     0.737274  0.608384  white   Ghoul\n",
              "\n",
              "[371 rows x 7 columns]"
            ]
          },
          "metadata": {
            "tags": []
          },
          "execution_count": 17
        }
      ]
    },
    {
      "cell_type": "code",
      "metadata": {
        "id": "W9umH4Wm8X-r",
        "colab_type": "code",
        "outputId": "f267772a-d4d2-4dc2-db65-c7aab3aab71a",
        "colab": {
          "base_uri": "https://localhost:8080/",
          "height": 235
        }
      },
      "source": [
        "data1.info()"
      ],
      "execution_count": 0,
      "outputs": [
        {
          "output_type": "stream",
          "text": [
            "<class 'pandas.core.frame.DataFrame'>\n",
            "Int64Index: 371 entries, 0 to 897\n",
            "Data columns (total 6 columns):\n",
            " #   Column         Non-Null Count  Dtype  \n",
            "---  ------         --------------  -----  \n",
            " 0   bone_length    371 non-null    float64\n",
            " 1   rotting_flesh  371 non-null    float64\n",
            " 2   hair_length    371 non-null    float64\n",
            " 3   has_soul       371 non-null    float64\n",
            " 4   color          371 non-null    object \n",
            " 5   type           371 non-null    object \n",
            "dtypes: float64(4), object(2)\n",
            "memory usage: 20.3+ KB\n"
          ],
          "name": "stdout"
        }
      ]
    },
    {
      "cell_type": "code",
      "metadata": {
        "id": "_6utOTki8-b2",
        "colab_type": "code",
        "outputId": "a40de65a-5f6b-4a24-a88f-d10bad835060",
        "colab": {
          "base_uri": "https://localhost:8080/",
          "height": 296
        }
      },
      "source": [
        "sns.countplot(x='type', data=data1)\n",
        "#é notável que a quantidade de cada monstro é equilibrada, porém o monstro que mais aparece são ghouls"
      ],
      "execution_count": 0,
      "outputs": [
        {
          "output_type": "execute_result",
          "data": {
            "text/plain": [
              "<matplotlib.axes._subplots.AxesSubplot at 0x7f34945b4b38>"
            ]
          },
          "metadata": {
            "tags": []
          },
          "execution_count": 16
        },
        {
          "output_type": "display_data",
          "data": {
            "image/png": "[encoded data removed]",
            "text/plain": [
              "<Figure size 432x288 with 1 Axes>"
            ]
          },
          "metadata": {
            "tags": []
          }
        }
      ]
    },
    {
      "cell_type": "code",
      "metadata": {
        "id": "bipWQZCh_D8X",
        "colab_type": "code",
        "outputId": "24dcd4b8-0248-48a6-d3ed-3b4d9a3e7b4b",
        "colab": {
          "base_uri": "https://localhost:8080/",
          "height": 195
        }
      },
      "source": [
        "sns.factorplot(x='type', col='color', kind='count', data=data1)\n",
        "#a partir desses gráficosse torna nítido como não podemos definir um monstro por cor"
      ],
      "execution_count": 0,
      "outputs": [
        {
          "output_type": "stream",
          "text": [
            "/usr/local/lib/python3.6/dist-packages/seaborn/categorical.py:3669: UserWarning: The `factorplot` function has been renamed to `catplot`. The original name will be removed in a future release. Please update your code. Note that the default `kind` in `factorplot` (`'point'`) has changed `'strip'` in `catplot`.\n",
            "  warnings.warn(msg)\n"
          ],
          "name": "stderr"
        },
        {
          "output_type": "execute_result",
          "data": {
            "text/plain": [
              "<seaborn.axisgrid.FacetGrid at 0x7f3494741e48>"
            ]
          },
          "metadata": {
            "tags": []
          },
          "execution_count": 17
        },
        {
          "output_type": "display_data",
          "data": {
            "image/png": "[encoded data removed]",
            "text/plain": [
              "<Figure size 2160x360 with 6 Axes>"
            ]
          },
          "metadata": {
            "tags": []
          }
        }
      ]
    },
    {
      "cell_type": "code",
      "metadata": {
        "id": "GtNiZu8LAAo3",
        "colab_type": "code",
        "outputId": "38433415-908e-4fd6-a2bf-2a1a5dc94933",
        "colab": {
          "base_uri": "https://localhost:8080/",
          "height": 297
        }
      },
      "source": [
        "data1.plot.scatter(x='bone_length', y='type')\n",
        "#atraves desse grafico vemos que todos os monstros com menos de 0,2 de bone_length são fantasmas\n",
        "#também é notável que todos os monstros com mais de 0,7 de bone_length são canibais"
      ],
      "execution_count": 0,
      "outputs": [
        {
          "output_type": "execute_result",
          "data": {
            "text/plain": [
              "<matplotlib.axes._subplots.AxesSubplot at 0x7f34915774e0>"
            ]
          },
          "metadata": {
            "tags": []
          },
          "execution_count": 19
        },
        {
          "output_type": "display_data",
          "data": {
            "image/png": "[encoded data removed]",
            "text/plain": [
              "<Figure size 432x288 with 1 Axes>"
            ]
          },
          "metadata": {
            "tags": []
          }
        }
      ]
    },
    {
      "cell_type": "code",
      "metadata": {
        "id": "VdsDnkvDCSX9",
        "colab_type": "code",
        "outputId": "010dcd42-79bf-42b2-a724-343f4364bbf3",
        "colab": {
          "base_uri": "https://localhost:8080/",
          "height": 297
        }
      },
      "source": [
        "data1.plot.scatter(x='rotting_flesh', y='type') \n",
        "#atraves desse grafico vemos que todos os monstros com menos de 0,15 de rooting flesh são goblins\n",
        "#também é notável que todos os monstros com mais de 0,85 de bone_length são fantasmas"
      ],
      "execution_count": 0,
      "outputs": [
        {
          "output_type": "execute_result",
          "data": {
            "text/plain": [
              "<matplotlib.axes._subplots.AxesSubplot at 0x7f349154cba8>"
            ]
          },
          "metadata": {
            "tags": []
          },
          "execution_count": 20
        },
        {
          "output_type": "display_data",
          "data": {
            "image/png": "[encoded data removed]",
            "text/plain": [
              "<Figure size 432x288 with 1 Axes>"
            ]
          },
          "metadata": {
            "tags": []
          }
        }
      ]
    },
    {
      "cell_type": "code",
      "metadata": {
        "id": "aO4g41H4Cl7I",
        "colab_type": "code",
        "outputId": "276fb6c6-c83f-4b34-fa11-ef6e667e36af",
        "colab": {
          "base_uri": "https://localhost:8080/",
          "height": 297
        }
      },
      "source": [
        "data1.plot.scatter(x='hair_length', y='type')\n",
        "#atraves desse grafico vemos que todos os monstros com menos de 0,2 de hair length são fantasmas\n",
        "#também é notável que todos os monstros com mais de 0,85 de hair length são canibais"
      ],
      "execution_count": 0,
      "outputs": [
        {
          "output_type": "execute_result",
          "data": {
            "text/plain": [
              "<matplotlib.axes._subplots.AxesSubplot at 0x7f349151eb38>"
            ]
          },
          "metadata": {
            "tags": []
          },
          "execution_count": 21
        },
        {
          "output_type": "display_data",
          "data": {
            "image/png": "[encoded data removed]",
            "text/plain": [
              "<Figure size 432x288 with 1 Axes>"
            ]
          },
          "metadata": {
            "tags": []
          }
        }
      ]
    },
    {
      "cell_type": "code",
      "metadata": {
        "id": "KLZxRnjiCzyr",
        "colab_type": "code",
        "outputId": "3a280789-5613-4d11-b0ef-dc737a40946c",
        "colab": {
          "base_uri": "https://localhost:8080/",
          "height": 297
        }
      },
      "source": [
        "data1.plot.scatter(x='has_soul', y='type')\n",
        "#atraves desse grafico vemos que todos os monstros com menos de 0,15 de has_soul são fantasmas\n",
        "#também é notável que todos os monstros com mais de 0,85 de has_soul são canibais"
      ],
      "execution_count": 0,
      "outputs": [
        {
          "output_type": "execute_result",
          "data": {
            "text/plain": [
              "<matplotlib.axes._subplots.AxesSubplot at 0x7f34914eaef0>"
            ]
          },
          "metadata": {
            "tags": []
          },
          "execution_count": 22
        },
        {
          "output_type": "display_data",
          "data": {
            "image/png": "[encoded data removed]",
            "text/plain": [
              "<Figure size 432x288 with 1 Axes>"
            ]
          },
          "metadata": {
            "tags": []
          }
        }
      ]
    },
    {
      "cell_type": "code",
      "metadata": {
        "id": "mDyhm8Zc9Gxx",
        "colab_type": "code",
        "outputId": "ae9bdf90-5ec1-4a55-ba28-3d79b87084d9",
        "colab": {
          "base_uri": "https://localhost:8080/",
          "height": 419
        }
      },
      "source": [
        "from google.colab import files\n",
        "data2['type']= 'Ghoul'\n",
        "#monstro que mais aparece\n",
        "\n",
        "#dados sobre o tamanho do osso\n",
        "data2_length = data2[data2.bone_length<0.2]\n",
        "data2_length_ids = data2_length['id'].tolist()\n",
        "data2.loc[data2['id'].isin(data2_length_ids), 'type'] = 'Ghost'\n",
        "\n",
        "data2_length = data2[data2.bone_length>0.7]\n",
        "data2_length_ids = data2_length['id'].tolist()\n",
        "data2.loc[data2['id'].isin(data2_length_ids), 'type'] = 'Ghoul'\n",
        "\n",
        "#dados sobre a carne podre\n",
        "data2_length = data2[data2.rotting_flesh<0.15]\n",
        "data2_length_ids = data2_length['id'].tolist()\n",
        "data2.loc[data2['id'].isin(data2_length_ids), 'type'] = 'Goblin'\n",
        "\n",
        "data2_length = data2[data2.rotting_flesh>0.85]\n",
        "data2_length_ids = data2_length['id'].tolist()\n",
        "data2.loc[data2['id'].isin(data2_length_ids), 'type'] = 'Ghost'\n",
        "\n",
        "#dados sobre o tamanho do cabelo\n",
        "data2_length = data2[data2.hair_length<0.2]\n",
        "data2_length_ids = data2_length['id'].tolist()\n",
        "data2.loc[data2['id'].isin(data2_length_ids), 'type'] = 'Ghost'\n",
        "\n",
        "data2_length = data2[data2.hair_length>0.85]\n",
        "data2_length_ids = data2_length['id'].tolist()\n",
        "data2.loc[data2['id'].isin(data2_length_ids), 'type'] = 'Ghoul'\n",
        "\n",
        "#dados sobre a quantidade de alma\n",
        "data2_length = data2[data2.has_soul<0.15]\n",
        "data2_length_ids = data2_length['id'].tolist()\n",
        "data2.loc[data2['id'].isin(data2_length_ids), 'type'] = 'Ghost'\n",
        "\n",
        "data2_length = data2[data2.has_soul>0.85]\n",
        "data2_length_ids = data2_length['id'].tolist()\n",
        "data2.loc[data2['id'].isin(data2_length_ids), 'type'] = 'Ghoul'\n",
        "\n",
        "data2.loc[:,['id', 'type']].to_csv('ggg_test.csv', index = False)\n",
        "#files.download('ggg_test.csv')\n",
        "\n",
        "data2"
      ],
      "execution_count": 0,
      "outputs": [
        {
          "output_type": "execute_result",
          "data": {
            "text/html": [
              "<div>\n",
              "<style scoped>\n",
              "    .dataframe tbody tr th:only-of-type {\n",
              "        vertical-align: middle;\n",
              "    }\n",
              "\n",
              "    .dataframe tbody tr th {\n",
              "        vertical-align: top;\n",
              "    }\n",
              "\n",
              "    .dataframe thead th {\n",
              "        text-align: right;\n",
              "    }\n",
              "</style>\n",
              "<table border=\"1\" class=\"dataframe\">\n",
              "  <thead>\n",
              "    <tr style=\"text-align: right;\">\n",
              "      <th></th>\n",
              "      <th>id</th>\n",
              "      <th>bone_length</th>\n",
              "      <th>rotting_flesh</th>\n",
              "      <th>hair_length</th>\n",
              "      <th>has_soul</th>\n",
              "      <th>color</th>\n",
              "      <th>type</th>\n",
              "    </tr>\n",
              "  </thead>\n",
              "  <tbody>\n",
              "    <tr>\n",
              "      <th>0</th>\n",
              "      <td>3</td>\n",
              "      <td>0.471774</td>\n",
              "      <td>0.387937</td>\n",
              "      <td>0.706087</td>\n",
              "      <td>0.698537</td>\n",
              "      <td>black</td>\n",
              "      <td>Ghoul</td>\n",
              "    </tr>\n",
              "    <tr>\n",
              "      <th>1</th>\n",
              "      <td>6</td>\n",
              "      <td>0.427332</td>\n",
              "      <td>0.645024</td>\n",
              "      <td>0.565558</td>\n",
              "      <td>0.451462</td>\n",
              "      <td>white</td>\n",
              "      <td>Ghoul</td>\n",
              "    </tr>\n",
              "    <tr>\n",
              "      <th>2</th>\n",
              "      <td>9</td>\n",
              "      <td>0.549602</td>\n",
              "      <td>0.491931</td>\n",
              "      <td>0.660387</td>\n",
              "      <td>0.449809</td>\n",
              "      <td>black</td>\n",
              "      <td>Ghoul</td>\n",
              "    </tr>\n",
              "    <tr>\n",
              "      <th>3</th>\n",
              "      <td>10</td>\n",
              "      <td>0.638095</td>\n",
              "      <td>0.682867</td>\n",
              "      <td>0.471409</td>\n",
              "      <td>0.356924</td>\n",
              "      <td>white</td>\n",
              "      <td>Ghoul</td>\n",
              "    </tr>\n",
              "    <tr>\n",
              "      <th>4</th>\n",
              "      <td>13</td>\n",
              "      <td>0.361762</td>\n",
              "      <td>0.583997</td>\n",
              "      <td>0.377256</td>\n",
              "      <td>0.276364</td>\n",
              "      <td>black</td>\n",
              "      <td>Ghoul</td>\n",
              "    </tr>\n",
              "    <tr>\n",
              "      <th>...</th>\n",
              "      <td>...</td>\n",
              "      <td>...</td>\n",
              "      <td>...</td>\n",
              "      <td>...</td>\n",
              "      <td>...</td>\n",
              "      <td>...</td>\n",
              "      <td>...</td>\n",
              "    </tr>\n",
              "    <tr>\n",
              "      <th>524</th>\n",
              "      <td>893</td>\n",
              "      <td>0.377573</td>\n",
              "      <td>0.390158</td>\n",
              "      <td>0.696465</td>\n",
              "      <td>0.355373</td>\n",
              "      <td>blue</td>\n",
              "      <td>Ghoul</td>\n",
              "    </tr>\n",
              "    <tr>\n",
              "      <th>525</th>\n",
              "      <td>894</td>\n",
              "      <td>0.229161</td>\n",
              "      <td>0.601265</td>\n",
              "      <td>0.191282</td>\n",
              "      <td>0.475115</td>\n",
              "      <td>clear</td>\n",
              "      <td>Ghost</td>\n",
              "    </tr>\n",
              "    <tr>\n",
              "      <th>526</th>\n",
              "      <td>895</td>\n",
              "      <td>0.510497</td>\n",
              "      <td>0.498347</td>\n",
              "      <td>0.708020</td>\n",
              "      <td>0.714154</td>\n",
              "      <td>white</td>\n",
              "      <td>Ghoul</td>\n",
              "    </tr>\n",
              "    <tr>\n",
              "      <th>527</th>\n",
              "      <td>898</td>\n",
              "      <td>0.331472</td>\n",
              "      <td>0.765835</td>\n",
              "      <td>0.338207</td>\n",
              "      <td>0.193431</td>\n",
              "      <td>clear</td>\n",
              "      <td>Ghoul</td>\n",
              "    </tr>\n",
              "    <tr>\n",
              "      <th>528</th>\n",
              "      <td>899</td>\n",
              "      <td>0.256789</td>\n",
              "      <td>0.691802</td>\n",
              "      <td>0.415197</td>\n",
              "      <td>0.348971</td>\n",
              "      <td>white</td>\n",
              "      <td>Ghoul</td>\n",
              "    </tr>\n",
              "  </tbody>\n",
              "</table>\n",
              "<p>529 rows × 7 columns</p>\n",
              "</div>"
            ],
            "text/plain": [
              "      id  bone_length  rotting_flesh  hair_length  has_soul  color   type\n",
              "0      3     0.471774       0.387937     0.706087  0.698537  black  Ghoul\n",
              "1      6     0.427332       0.645024     0.565558  0.451462  white  Ghoul\n",
              "2      9     0.549602       0.491931     0.660387  0.449809  black  Ghoul\n",
              "3     10     0.638095       0.682867     0.471409  0.356924  white  Ghoul\n",
              "4     13     0.361762       0.583997     0.377256  0.276364  black  Ghoul\n",
              "..   ...          ...            ...          ...       ...    ...    ...\n",
              "524  893     0.377573       0.390158     0.696465  0.355373   blue  Ghoul\n",
              "525  894     0.229161       0.601265     0.191282  0.475115  clear  Ghost\n",
              "526  895     0.510497       0.498347     0.708020  0.714154  white  Ghoul\n",
              "527  898     0.331472       0.765835     0.338207  0.193431  clear  Ghoul\n",
              "528  899     0.256789       0.691802     0.415197  0.348971  white  Ghoul\n",
              "\n",
              "[529 rows x 7 columns]"
            ]
          },
          "metadata": {
            "tags": []
          },
          "execution_count": 49
        }
      ]
    },
    {
      "cell_type": "code",
      "metadata": {
        "id": "9y1Gz2HPez-U",
        "colab_type": "code",
        "outputId": "7297a4bb-e897-49e9-92ce-68633c4af0ad",
        "colab": {
          "base_uri": "https://localhost:8080/",
          "height": 419
        }
      },
      "source": [
        "ggg = pd.read_csv(\"ggg_test.csv\")\n",
        "ggg"
      ],
      "execution_count": 0,
      "outputs": [
        {
          "output_type": "execute_result",
          "data": {
            "text/html": [
              "<div>\n",
              "<style scoped>\n",
              "    .dataframe tbody tr th:only-of-type {\n",
              "        vertical-align: middle;\n",
              "    }\n",
              "\n",
              "    .dataframe tbody tr th {\n",
              "        vertical-align: top;\n",
              "    }\n",
              "\n",
              "    .dataframe thead th {\n",
              "        text-align: right;\n",
              "    }\n",
              "</style>\n",
              "<table border=\"1\" class=\"dataframe\">\n",
              "  <thead>\n",
              "    <tr style=\"text-align: right;\">\n",
              "      <th></th>\n",
              "      <th>id</th>\n",
              "      <th>type</th>\n",
              "    </tr>\n",
              "  </thead>\n",
              "  <tbody>\n",
              "    <tr>\n",
              "      <th>0</th>\n",
              "      <td>3</td>\n",
              "      <td>Ghoul</td>\n",
              "    </tr>\n",
              "    <tr>\n",
              "      <th>1</th>\n",
              "      <td>6</td>\n",
              "      <td>Ghoul</td>\n",
              "    </tr>\n",
              "    <tr>\n",
              "      <th>2</th>\n",
              "      <td>9</td>\n",
              "      <td>Ghoul</td>\n",
              "    </tr>\n",
              "    <tr>\n",
              "      <th>3</th>\n",
              "      <td>10</td>\n",
              "      <td>Ghoul</td>\n",
              "    </tr>\n",
              "    <tr>\n",
              "      <th>4</th>\n",
              "      <td>13</td>\n",
              "      <td>Ghoul</td>\n",
              "    </tr>\n",
              "    <tr>\n",
              "      <th>...</th>\n",
              "      <td>...</td>\n",
              "      <td>...</td>\n",
              "    </tr>\n",
              "    <tr>\n",
              "      <th>524</th>\n",
              "      <td>893</td>\n",
              "      <td>Ghoul</td>\n",
              "    </tr>\n",
              "    <tr>\n",
              "      <th>525</th>\n",
              "      <td>894</td>\n",
              "      <td>Ghost</td>\n",
              "    </tr>\n",
              "    <tr>\n",
              "      <th>526</th>\n",
              "      <td>895</td>\n",
              "      <td>Ghoul</td>\n",
              "    </tr>\n",
              "    <tr>\n",
              "      <th>527</th>\n",
              "      <td>898</td>\n",
              "      <td>Ghoul</td>\n",
              "    </tr>\n",
              "    <tr>\n",
              "      <th>528</th>\n",
              "      <td>899</td>\n",
              "      <td>Ghoul</td>\n",
              "    </tr>\n",
              "  </tbody>\n",
              "</table>\n",
              "<p>529 rows × 2 columns</p>\n",
              "</div>"
            ],
            "text/plain": [
              "      id   type\n",
              "0      3  Ghoul\n",
              "1      6  Ghoul\n",
              "2      9  Ghoul\n",
              "3     10  Ghoul\n",
              "4     13  Ghoul\n",
              "..   ...    ...\n",
              "524  893  Ghoul\n",
              "525  894  Ghost\n",
              "526  895  Ghoul\n",
              "527  898  Ghoul\n",
              "528  899  Ghoul\n",
              "\n",
              "[529 rows x 2 columns]"
            ]
          },
          "metadata": {
            "tags": []
          },
          "execution_count": 50
        }
      ]
    },
    {
      "cell_type": "markdown",
      "metadata": {
        "id": "4IcWhGSOoqSY",
        "colab_type": "text"
      },
      "source": [
        "#NAIVE BAYES\n"
      ]
    },
    {
      "cell_type": "code",
      "metadata": {
        "id": "XUUL8ZpvhwqP",
        "colab_type": "code",
        "colab": {}
      },
      "source": [
        "\n",
        "from sklearn.naive_bayes import GaussianNB # 1. Escolha do modelo.\n",
        "model_bayes = GaussianNB()                 # 2. Escolha dos hiperparâmetros e intanciação."
      ],
      "execution_count": 0,
      "outputs": []
    },
    {
      "cell_type": "code",
      "metadata": {
        "id": "_stbGTU8iq-N",
        "colab_type": "code",
        "outputId": "4637256b-cb99-490c-fe55-a5c02c2a2c06",
        "colab": {
          "base_uri": "https://localhost:8080/",
          "height": 191
        }
      },
      "source": [
        "# 3.1 Feature Matrix\n",
        "x_ggg = data1.loc[: ,  [\"bone_length\",\t\"rotting_flesh\", \"hair_length\",\t\"has_soul\"\t] ]\n",
        "x_ggg.head()"
      ],
      "execution_count": 0,
      "outputs": [
        {
          "output_type": "execute_result",
          "data": {
            "text/html": [
              "<div>\n",
              "<style scoped>\n",
              "    .dataframe tbody tr th:only-of-type {\n",
              "        vertical-align: middle;\n",
              "    }\n",
              "\n",
              "    .dataframe tbody tr th {\n",
              "        vertical-align: top;\n",
              "    }\n",
              "\n",
              "    .dataframe thead th {\n",
              "        text-align: right;\n",
              "    }\n",
              "</style>\n",
              "<table border=\"1\" class=\"dataframe\">\n",
              "  <thead>\n",
              "    <tr style=\"text-align: right;\">\n",
              "      <th></th>\n",
              "      <th>bone_length</th>\n",
              "      <th>rotting_flesh</th>\n",
              "      <th>hair_length</th>\n",
              "      <th>has_soul</th>\n",
              "    </tr>\n",
              "  </thead>\n",
              "  <tbody>\n",
              "    <tr>\n",
              "      <th>0</th>\n",
              "      <td>0.354512</td>\n",
              "      <td>0.350839</td>\n",
              "      <td>0.465761</td>\n",
              "      <td>0.781142</td>\n",
              "    </tr>\n",
              "    <tr>\n",
              "      <th>1</th>\n",
              "      <td>0.575560</td>\n",
              "      <td>0.425868</td>\n",
              "      <td>0.531401</td>\n",
              "      <td>0.439899</td>\n",
              "    </tr>\n",
              "    <tr>\n",
              "      <th>2</th>\n",
              "      <td>0.467875</td>\n",
              "      <td>0.354330</td>\n",
              "      <td>0.811616</td>\n",
              "      <td>0.791225</td>\n",
              "    </tr>\n",
              "    <tr>\n",
              "      <th>3</th>\n",
              "      <td>0.776652</td>\n",
              "      <td>0.508723</td>\n",
              "      <td>0.636766</td>\n",
              "      <td>0.884464</td>\n",
              "    </tr>\n",
              "    <tr>\n",
              "      <th>4</th>\n",
              "      <td>0.566117</td>\n",
              "      <td>0.875862</td>\n",
              "      <td>0.418594</td>\n",
              "      <td>0.636438</td>\n",
              "    </tr>\n",
              "  </tbody>\n",
              "</table>\n",
              "</div>"
            ],
            "text/plain": [
              "   bone_length  rotting_flesh  hair_length  has_soul\n",
              "0     0.354512       0.350839     0.465761  0.781142\n",
              "1     0.575560       0.425868     0.531401  0.439899\n",
              "2     0.467875       0.354330     0.811616  0.791225\n",
              "3     0.776652       0.508723     0.636766  0.884464\n",
              "4     0.566117       0.875862     0.418594  0.636438"
            ]
          },
          "metadata": {
            "tags": []
          },
          "execution_count": 26
        }
      ]
    },
    {
      "cell_type": "code",
      "metadata": {
        "id": "QK6xX364jRDr",
        "colab_type": "code",
        "outputId": "f6a8f619-e5b4-405e-910f-8d0f595cf138",
        "colab": {
          "base_uri": "https://localhost:8080/",
          "height": 115
        }
      },
      "source": [
        "# 3.2 Target Array\n",
        "y_ggg = data1.type\n",
        "y_ggg.head()"
      ],
      "execution_count": 0,
      "outputs": [
        {
          "output_type": "execute_result",
          "data": {
            "text/plain": [
              "0     Ghoul\n",
              "1    Goblin\n",
              "2     Ghoul\n",
              "3     Ghoul\n",
              "4     Ghost\n",
              "Name: type, dtype: object"
            ]
          },
          "metadata": {
            "tags": []
          },
          "execution_count": 27
        }
      ]
    },
    {
      "cell_type": "code",
      "metadata": {
        "id": "t-YA_AbjjdlW",
        "colab_type": "code",
        "colab": {}
      },
      "source": [
        "# 3.3 Separação do Banco de Dados\n",
        "from sklearn.model_selection import train_test_split\n",
        "xtrain, xtest, ytrain, ytest = train_test_split(x_ggg, y_ggg, random_state=2020)"
      ],
      "execution_count": 0,
      "outputs": []
    },
    {
      "cell_type": "code",
      "metadata": {
        "id": "RvgNvmRGjyGQ",
        "colab_type": "code",
        "outputId": "53a3ff80-2600-4ae8-89e6-5bada5f70008",
        "colab": {
          "base_uri": "https://localhost:8080/",
          "height": 312
        }
      },
      "source": [
        "# 4 Ajuste o modelo aos dados\n",
        "model_bayes.fit(xtrain, ytrain)\n",
        "#ERRO OCASIONADO POR SE UTILIZAR STRINGS COMO PARAMETRO"
      ],
      "execution_count": 0,
      "outputs": [
        {
          "output_type": "error",
          "ename": "ValueError",
          "evalue": "ignored",
          "traceback": [
            "\u001b[0;31m---------------------------------------------------------------------------\u001b[0m",
            "\u001b[0;31mValueError\u001b[0m                                Traceback (most recent call last)",
            "\u001b[0;32m<ipython-input-23-e2424627bc74>\u001b[0m in \u001b[0;36m<module>\u001b[0;34m()\u001b[0m\n\u001b[0;32m----> 1\u001b[0;31m \u001b[0mmodel_bayes\u001b[0m\u001b[0;34m.\u001b[0m\u001b[0mfit\u001b[0m\u001b[0;34m(\u001b[0m\u001b[0mxtrain\u001b[0m\u001b[0;34m,\u001b[0m \u001b[0mytrain\u001b[0m\u001b[0;34m)\u001b[0m\u001b[0;34m\u001b[0m\u001b[0;34m\u001b[0m\u001b[0m\n\u001b[0m\u001b[1;32m      2\u001b[0m \u001b[0;31m#ERRO OCASIONADO POR SE UTILIZAR STRINGS COMO PARAMETRO\u001b[0m\u001b[0;34m\u001b[0m\u001b[0;34m\u001b[0m\u001b[0;34m\u001b[0m\u001b[0m\n",
            "\u001b[0;32m/usr/local/lib/python3.6/dist-packages/sklearn/naive_bayes.py\u001b[0m in \u001b[0;36mfit\u001b[0;34m(self, X, y, sample_weight)\u001b[0m\n\u001b[1;32m    206\u001b[0m         \u001b[0my\u001b[0m \u001b[0;34m=\u001b[0m \u001b[0mcolumn_or_1d\u001b[0m\u001b[0;34m(\u001b[0m\u001b[0my\u001b[0m\u001b[0;34m,\u001b[0m \u001b[0mwarn\u001b[0m\u001b[0;34m=\u001b[0m\u001b[0;32mTrue\u001b[0m\u001b[0;34m)\u001b[0m\u001b[0;34m\u001b[0m\u001b[0;34m\u001b[0m\u001b[0m\n\u001b[1;32m    207\u001b[0m         return self._partial_fit(X, y, np.unique(y), _refit=True,\n\u001b[0;32m--> 208\u001b[0;31m                                  sample_weight=sample_weight)\n\u001b[0m\u001b[1;32m    209\u001b[0m \u001b[0;34m\u001b[0m\u001b[0m\n\u001b[1;32m    210\u001b[0m     \u001b[0;32mdef\u001b[0m \u001b[0m_check_X\u001b[0m\u001b[0;34m(\u001b[0m\u001b[0mself\u001b[0m\u001b[0;34m,\u001b[0m \u001b[0mX\u001b[0m\u001b[0;34m)\u001b[0m\u001b[0;34m:\u001b[0m\u001b[0;34m\u001b[0m\u001b[0;34m\u001b[0m\u001b[0m\n",
            "\u001b[0;32m/usr/local/lib/python3.6/dist-packages/sklearn/naive_bayes.py\u001b[0m in \u001b[0;36m_partial_fit\u001b[0;34m(self, X, y, classes, _refit, sample_weight)\u001b[0m\n\u001b[1;32m    357\u001b[0m         \u001b[0mself\u001b[0m \u001b[0;34m:\u001b[0m \u001b[0mobject\u001b[0m\u001b[0;34m\u001b[0m\u001b[0;34m\u001b[0m\u001b[0m\n\u001b[1;32m    358\u001b[0m         \"\"\"\n\u001b[0;32m--> 359\u001b[0;31m         \u001b[0mX\u001b[0m\u001b[0;34m,\u001b[0m \u001b[0my\u001b[0m \u001b[0;34m=\u001b[0m \u001b[0mcheck_X_y\u001b[0m\u001b[0;34m(\u001b[0m\u001b[0mX\u001b[0m\u001b[0;34m,\u001b[0m \u001b[0my\u001b[0m\u001b[0;34m)\u001b[0m\u001b[0;34m\u001b[0m\u001b[0;34m\u001b[0m\u001b[0m\n\u001b[0m\u001b[1;32m    360\u001b[0m         \u001b[0;32mif\u001b[0m \u001b[0msample_weight\u001b[0m \u001b[0;32mis\u001b[0m \u001b[0;32mnot\u001b[0m \u001b[0;32mNone\u001b[0m\u001b[0;34m:\u001b[0m\u001b[0;34m\u001b[0m\u001b[0;34m\u001b[0m\u001b[0m\n\u001b[1;32m    361\u001b[0m             \u001b[0msample_weight\u001b[0m \u001b[0;34m=\u001b[0m \u001b[0m_check_sample_weight\u001b[0m\u001b[0;34m(\u001b[0m\u001b[0msample_weight\u001b[0m\u001b[0;34m,\u001b[0m \u001b[0mX\u001b[0m\u001b[0;34m)\u001b[0m\u001b[0;34m\u001b[0m\u001b[0;34m\u001b[0m\u001b[0m\n",
            "\u001b[0;32m/usr/local/lib/python3.6/dist-packages/sklearn/utils/validation.py\u001b[0m in \u001b[0;36mcheck_X_y\u001b[0;34m(X, y, accept_sparse, accept_large_sparse, dtype, order, copy, force_all_finite, ensure_2d, allow_nd, multi_output, ensure_min_samples, ensure_min_features, y_numeric, warn_on_dtype, estimator)\u001b[0m\n\u001b[1;32m    753\u001b[0m                     \u001b[0mensure_min_features\u001b[0m\u001b[0;34m=\u001b[0m\u001b[0mensure_min_features\u001b[0m\u001b[0;34m,\u001b[0m\u001b[0;34m\u001b[0m\u001b[0;34m\u001b[0m\u001b[0m\n\u001b[1;32m    754\u001b[0m                     \u001b[0mwarn_on_dtype\u001b[0m\u001b[0;34m=\u001b[0m\u001b[0mwarn_on_dtype\u001b[0m\u001b[0;34m,\u001b[0m\u001b[0;34m\u001b[0m\u001b[0;34m\u001b[0m\u001b[0m\n\u001b[0;32m--> 755\u001b[0;31m                     estimator=estimator)\n\u001b[0m\u001b[1;32m    756\u001b[0m     \u001b[0;32mif\u001b[0m \u001b[0mmulti_output\u001b[0m\u001b[0;34m:\u001b[0m\u001b[0;34m\u001b[0m\u001b[0;34m\u001b[0m\u001b[0m\n\u001b[1;32m    757\u001b[0m         y = check_array(y, 'csr', force_all_finite=True, ensure_2d=False,\n",
            "\u001b[0;32m/usr/local/lib/python3.6/dist-packages/sklearn/utils/validation.py\u001b[0m in \u001b[0;36mcheck_array\u001b[0;34m(array, accept_sparse, accept_large_sparse, dtype, order, copy, force_all_finite, ensure_2d, allow_nd, ensure_min_samples, ensure_min_features, warn_on_dtype, estimator)\u001b[0m\n\u001b[1;32m    529\u001b[0m                     \u001b[0marray\u001b[0m \u001b[0;34m=\u001b[0m \u001b[0marray\u001b[0m\u001b[0;34m.\u001b[0m\u001b[0mastype\u001b[0m\u001b[0;34m(\u001b[0m\u001b[0mdtype\u001b[0m\u001b[0;34m,\u001b[0m \u001b[0mcasting\u001b[0m\u001b[0;34m=\u001b[0m\u001b[0;34m\"unsafe\"\u001b[0m\u001b[0;34m,\u001b[0m \u001b[0mcopy\u001b[0m\u001b[0;34m=\u001b[0m\u001b[0;32mFalse\u001b[0m\u001b[0;34m)\u001b[0m\u001b[0;34m\u001b[0m\u001b[0;34m\u001b[0m\u001b[0m\n\u001b[1;32m    530\u001b[0m                 \u001b[0;32melse\u001b[0m\u001b[0;34m:\u001b[0m\u001b[0;34m\u001b[0m\u001b[0;34m\u001b[0m\u001b[0m\n\u001b[0;32m--> 531\u001b[0;31m                     \u001b[0marray\u001b[0m \u001b[0;34m=\u001b[0m \u001b[0mnp\u001b[0m\u001b[0;34m.\u001b[0m\u001b[0masarray\u001b[0m\u001b[0;34m(\u001b[0m\u001b[0marray\u001b[0m\u001b[0;34m,\u001b[0m \u001b[0morder\u001b[0m\u001b[0;34m=\u001b[0m\u001b[0morder\u001b[0m\u001b[0;34m,\u001b[0m \u001b[0mdtype\u001b[0m\u001b[0;34m=\u001b[0m\u001b[0mdtype\u001b[0m\u001b[0;34m)\u001b[0m\u001b[0;34m\u001b[0m\u001b[0;34m\u001b[0m\u001b[0m\n\u001b[0m\u001b[1;32m    532\u001b[0m             \u001b[0;32mexcept\u001b[0m \u001b[0mComplexWarning\u001b[0m\u001b[0;34m:\u001b[0m\u001b[0;34m\u001b[0m\u001b[0;34m\u001b[0m\u001b[0m\n\u001b[1;32m    533\u001b[0m                 raise ValueError(\"Complex data not supported\\n\"\n",
            "\u001b[0;32m/usr/local/lib/python3.6/dist-packages/numpy/core/_asarray.py\u001b[0m in \u001b[0;36masarray\u001b[0;34m(a, dtype, order)\u001b[0m\n\u001b[1;32m     83\u001b[0m \u001b[0;34m\u001b[0m\u001b[0m\n\u001b[1;32m     84\u001b[0m     \"\"\"\n\u001b[0;32m---> 85\u001b[0;31m     \u001b[0;32mreturn\u001b[0m \u001b[0marray\u001b[0m\u001b[0;34m(\u001b[0m\u001b[0ma\u001b[0m\u001b[0;34m,\u001b[0m \u001b[0mdtype\u001b[0m\u001b[0;34m,\u001b[0m \u001b[0mcopy\u001b[0m\u001b[0;34m=\u001b[0m\u001b[0;32mFalse\u001b[0m\u001b[0;34m,\u001b[0m \u001b[0morder\u001b[0m\u001b[0;34m=\u001b[0m\u001b[0morder\u001b[0m\u001b[0;34m)\u001b[0m\u001b[0;34m\u001b[0m\u001b[0;34m\u001b[0m\u001b[0m\n\u001b[0m\u001b[1;32m     86\u001b[0m \u001b[0;34m\u001b[0m\u001b[0m\n\u001b[1;32m     87\u001b[0m \u001b[0;34m\u001b[0m\u001b[0m\n",
            "\u001b[0;31mValueError\u001b[0m: could not convert string to float: 'white'"
          ]
        }
      ]
    },
    {
      "cell_type": "code",
      "metadata": {
        "id": "VaKwI3nek5o8",
        "colab_type": "code",
        "outputId": "bcd3e7bc-2459-4d95-b38d-00bd4826bd21",
        "colab": {
          "base_uri": "https://localhost:8080/",
          "height": 33
        }
      },
      "source": [
        "# 4 Ajuste o modelo aos dados\n",
        "model_bayes.fit(xtrain, ytrain)"
      ],
      "execution_count": 0,
      "outputs": [
        {
          "output_type": "execute_result",
          "data": {
            "text/plain": [
              "GaussianNB(priors=None, var_smoothing=1e-09)"
            ]
          },
          "metadata": {
            "tags": []
          },
          "execution_count": 38
        }
      ]
    },
    {
      "cell_type": "code",
      "metadata": {
        "id": "Mc_CaCuTlSEX",
        "colab_type": "code",
        "colab": {}
      },
      "source": [
        "# 5 Faça predições em dados novos\n",
        "y_model_bayes = model_bayes.predict(xtest)"
      ],
      "execution_count": 0,
      "outputs": []
    },
    {
      "cell_type": "code",
      "metadata": {
        "id": "eN3ml0NflY5E",
        "colab_type": "code",
        "outputId": "9b893840-8209-434f-b93d-d4153eb5335a",
        "colab": {
          "base_uri": "https://localhost:8080/",
          "height": 245
        }
      },
      "source": [
        "y_model_bayes"
      ],
      "execution_count": 0,
      "outputs": [
        {
          "output_type": "execute_result",
          "data": {
            "text/plain": [
              "array(['Goblin', 'Ghost', 'Ghoul', 'Goblin', 'Ghoul', 'Goblin', 'Ghoul',\n",
              "       'Ghoul', 'Ghoul', 'Ghost', 'Ghost', 'Ghoul', 'Goblin', 'Ghoul',\n",
              "       'Goblin', 'Ghost', 'Ghost', 'Goblin', 'Ghoul', 'Goblin', 'Ghoul',\n",
              "       'Ghoul', 'Ghoul', 'Ghost', 'Ghost', 'Ghoul', 'Ghost', 'Ghoul',\n",
              "       'Ghost', 'Goblin', 'Ghoul', 'Ghoul', 'Goblin', 'Ghost', 'Ghost',\n",
              "       'Ghost', 'Goblin', 'Ghoul', 'Ghost', 'Goblin', 'Goblin', 'Ghost',\n",
              "       'Goblin', 'Ghost', 'Ghost', 'Ghost', 'Goblin', 'Ghoul', 'Ghost',\n",
              "       'Ghoul', 'Ghoul', 'Goblin', 'Goblin', 'Ghoul', 'Ghost', 'Goblin',\n",
              "       'Ghost', 'Ghost', 'Ghoul', 'Ghost', 'Goblin', 'Goblin', 'Ghoul',\n",
              "       'Ghost', 'Ghost', 'Ghost', 'Goblin', 'Ghost', 'Ghoul', 'Ghoul',\n",
              "       'Goblin', 'Ghost', 'Goblin', 'Goblin', 'Ghost', 'Goblin', 'Goblin',\n",
              "       'Ghost', 'Ghoul', 'Goblin', 'Ghoul', 'Ghoul', 'Ghost', 'Goblin',\n",
              "       'Ghost', 'Ghost', 'Ghost', 'Ghost', 'Goblin', 'Ghost', 'Ghost',\n",
              "       'Ghoul', 'Goblin'], dtype='<U6')"
            ]
          },
          "metadata": {
            "tags": []
          },
          "execution_count": 42
        }
      ]
    },
    {
      "cell_type": "code",
      "metadata": {
        "id": "pSsIsaGmlaMr",
        "colab_type": "code",
        "outputId": "10ed6a8f-64bb-4970-e565-7caffed306d9",
        "colab": {
          "base_uri": "https://localhost:8080/",
          "height": 33
        }
      },
      "source": [
        "#SCORE ESPERADDO ATRAVES DO TREINO\n",
        "from sklearn.metrics import accuracy_score\n",
        "accuracy_score(ytest, y_model_bayes)"
      ],
      "execution_count": 0,
      "outputs": [
        {
          "output_type": "execute_result",
          "data": {
            "text/plain": [
              "0.7849462365591398"
            ]
          },
          "metadata": {
            "tags": []
          },
          "execution_count": 31
        }
      ]
    },
    {
      "cell_type": "code",
      "metadata": {
        "id": "QghzktADmLtc",
        "colab_type": "code",
        "colab": {}
      },
      "source": [
        "#LEVANDO O METODO NAIVE PARA O BANCO DE DADOS TREINO\n",
        "x_ggg_test = data2.loc[: ,  [\"bone_length\",\t\"rotting_flesh\", \"hair_length\",\t\"has_soul\"\t] ]"
      ],
      "execution_count": 0,
      "outputs": []
    },
    {
      "cell_type": "code",
      "metadata": {
        "id": "GdWAa6zymEN4",
        "colab_type": "code",
        "colab": {}
      },
      "source": [
        "y_model_bayes = model_bayes.predict(x_ggg_test)"
      ],
      "execution_count": 0,
      "outputs": []
    },
    {
      "cell_type": "code",
      "metadata": {
        "id": "XjAz4IlTnL5J",
        "colab_type": "code",
        "outputId": "30adc27c-e609-40f7-dce6-07b4c4f53ae3",
        "colab": {
          "base_uri": "https://localhost:8080/",
          "height": 391
        }
      },
      "source": [
        "data2"
      ],
      "execution_count": 0,
      "outputs": [
        {
          "output_type": "execute_result",
          "data": {
            "text/html": [
              "<div>\n",
              "<style scoped>\n",
              "    .dataframe tbody tr th:only-of-type {\n",
              "        vertical-align: middle;\n",
              "    }\n",
              "\n",
              "    .dataframe tbody tr th {\n",
              "        vertical-align: top;\n",
              "    }\n",
              "\n",
              "    .dataframe thead th {\n",
              "        text-align: right;\n",
              "    }\n",
              "</style>\n",
              "<table border=\"1\" class=\"dataframe\">\n",
              "  <thead>\n",
              "    <tr style=\"text-align: right;\">\n",
              "      <th></th>\n",
              "      <th>id</th>\n",
              "      <th>bone_length</th>\n",
              "      <th>rotting_flesh</th>\n",
              "      <th>hair_length</th>\n",
              "      <th>has_soul</th>\n",
              "      <th>color</th>\n",
              "    </tr>\n",
              "  </thead>\n",
              "  <tbody>\n",
              "    <tr>\n",
              "      <th>0</th>\n",
              "      <td>3</td>\n",
              "      <td>0.471774</td>\n",
              "      <td>0.387937</td>\n",
              "      <td>0.706087</td>\n",
              "      <td>0.698537</td>\n",
              "      <td>black</td>\n",
              "    </tr>\n",
              "    <tr>\n",
              "      <th>1</th>\n",
              "      <td>6</td>\n",
              "      <td>0.427332</td>\n",
              "      <td>0.645024</td>\n",
              "      <td>0.565558</td>\n",
              "      <td>0.451462</td>\n",
              "      <td>white</td>\n",
              "    </tr>\n",
              "    <tr>\n",
              "      <th>2</th>\n",
              "      <td>9</td>\n",
              "      <td>0.549602</td>\n",
              "      <td>0.491931</td>\n",
              "      <td>0.660387</td>\n",
              "      <td>0.449809</td>\n",
              "      <td>black</td>\n",
              "    </tr>\n",
              "    <tr>\n",
              "      <th>3</th>\n",
              "      <td>10</td>\n",
              "      <td>0.638095</td>\n",
              "      <td>0.682867</td>\n",
              "      <td>0.471409</td>\n",
              "      <td>0.356924</td>\n",
              "      <td>white</td>\n",
              "    </tr>\n",
              "    <tr>\n",
              "      <th>4</th>\n",
              "      <td>13</td>\n",
              "      <td>0.361762</td>\n",
              "      <td>0.583997</td>\n",
              "      <td>0.377256</td>\n",
              "      <td>0.276364</td>\n",
              "      <td>black</td>\n",
              "    </tr>\n",
              "    <tr>\n",
              "      <th>...</th>\n",
              "      <td>...</td>\n",
              "      <td>...</td>\n",
              "      <td>...</td>\n",
              "      <td>...</td>\n",
              "      <td>...</td>\n",
              "      <td>...</td>\n",
              "    </tr>\n",
              "    <tr>\n",
              "      <th>524</th>\n",
              "      <td>893</td>\n",
              "      <td>0.377573</td>\n",
              "      <td>0.390158</td>\n",
              "      <td>0.696465</td>\n",
              "      <td>0.355373</td>\n",
              "      <td>blue</td>\n",
              "    </tr>\n",
              "    <tr>\n",
              "      <th>525</th>\n",
              "      <td>894</td>\n",
              "      <td>0.229161</td>\n",
              "      <td>0.601265</td>\n",
              "      <td>0.191282</td>\n",
              "      <td>0.475115</td>\n",
              "      <td>clear</td>\n",
              "    </tr>\n",
              "    <tr>\n",
              "      <th>526</th>\n",
              "      <td>895</td>\n",
              "      <td>0.510497</td>\n",
              "      <td>0.498347</td>\n",
              "      <td>0.708020</td>\n",
              "      <td>0.714154</td>\n",
              "      <td>white</td>\n",
              "    </tr>\n",
              "    <tr>\n",
              "      <th>527</th>\n",
              "      <td>898</td>\n",
              "      <td>0.331472</td>\n",
              "      <td>0.765835</td>\n",
              "      <td>0.338207</td>\n",
              "      <td>0.193431</td>\n",
              "      <td>clear</td>\n",
              "    </tr>\n",
              "    <tr>\n",
              "      <th>528</th>\n",
              "      <td>899</td>\n",
              "      <td>0.256789</td>\n",
              "      <td>0.691802</td>\n",
              "      <td>0.415197</td>\n",
              "      <td>0.348971</td>\n",
              "      <td>white</td>\n",
              "    </tr>\n",
              "  </tbody>\n",
              "</table>\n",
              "<p>529 rows × 6 columns</p>\n",
              "</div>"
            ],
            "text/plain": [
              "      id  bone_length  rotting_flesh  hair_length  has_soul  color\n",
              "0      3     0.471774       0.387937     0.706087  0.698537  black\n",
              "1      6     0.427332       0.645024     0.565558  0.451462  white\n",
              "2      9     0.549602       0.491931     0.660387  0.449809  black\n",
              "3     10     0.638095       0.682867     0.471409  0.356924  white\n",
              "4     13     0.361762       0.583997     0.377256  0.276364  black\n",
              "..   ...          ...            ...          ...       ...    ...\n",
              "524  893     0.377573       0.390158     0.696465  0.355373   blue\n",
              "525  894     0.229161       0.601265     0.191282  0.475115  clear\n",
              "526  895     0.510497       0.498347     0.708020  0.714154  white\n",
              "527  898     0.331472       0.765835     0.338207  0.193431  clear\n",
              "528  899     0.256789       0.691802     0.415197  0.348971  white\n",
              "\n",
              "[529 rows x 6 columns]"
            ]
          },
          "metadata": {
            "tags": []
          },
          "execution_count": 51
        }
      ]
    },
    {
      "cell_type": "code",
      "metadata": {
        "id": "K91G-YchnvZf",
        "colab_type": "code",
        "colab": {}
      },
      "source": [
        "data2.loc[:, 'type'] = y_model_bayes"
      ],
      "execution_count": 0,
      "outputs": []
    },
    {
      "cell_type": "code",
      "metadata": {
        "id": "NaYDS5GYoEdA",
        "colab_type": "code",
        "outputId": "84c76d87-03c9-4875-fa02-61fa1fcca63f",
        "colab": {
          "base_uri": "https://localhost:8080/",
          "height": 391
        }
      },
      "source": [
        "data2"
      ],
      "execution_count": 0,
      "outputs": [
        {
          "output_type": "execute_result",
          "data": {
            "text/html": [
              "<div>\n",
              "<style scoped>\n",
              "    .dataframe tbody tr th:only-of-type {\n",
              "        vertical-align: middle;\n",
              "    }\n",
              "\n",
              "    .dataframe tbody tr th {\n",
              "        vertical-align: top;\n",
              "    }\n",
              "\n",
              "    .dataframe thead th {\n",
              "        text-align: right;\n",
              "    }\n",
              "</style>\n",
              "<table border=\"1\" class=\"dataframe\">\n",
              "  <thead>\n",
              "    <tr style=\"text-align: right;\">\n",
              "      <th></th>\n",
              "      <th>id</th>\n",
              "      <th>bone_length</th>\n",
              "      <th>rotting_flesh</th>\n",
              "      <th>hair_length</th>\n",
              "      <th>has_soul</th>\n",
              "      <th>color</th>\n",
              "      <th>type</th>\n",
              "    </tr>\n",
              "  </thead>\n",
              "  <tbody>\n",
              "    <tr>\n",
              "      <th>0</th>\n",
              "      <td>3</td>\n",
              "      <td>0.471774</td>\n",
              "      <td>0.387937</td>\n",
              "      <td>0.706087</td>\n",
              "      <td>0.698537</td>\n",
              "      <td>black</td>\n",
              "      <td>Ghoul</td>\n",
              "    </tr>\n",
              "    <tr>\n",
              "      <th>1</th>\n",
              "      <td>6</td>\n",
              "      <td>0.427332</td>\n",
              "      <td>0.645024</td>\n",
              "      <td>0.565558</td>\n",
              "      <td>0.451462</td>\n",
              "      <td>white</td>\n",
              "      <td>Goblin</td>\n",
              "    </tr>\n",
              "    <tr>\n",
              "      <th>2</th>\n",
              "      <td>9</td>\n",
              "      <td>0.549602</td>\n",
              "      <td>0.491931</td>\n",
              "      <td>0.660387</td>\n",
              "      <td>0.449809</td>\n",
              "      <td>black</td>\n",
              "      <td>Ghoul</td>\n",
              "    </tr>\n",
              "    <tr>\n",
              "      <th>3</th>\n",
              "      <td>10</td>\n",
              "      <td>0.638095</td>\n",
              "      <td>0.682867</td>\n",
              "      <td>0.471409</td>\n",
              "      <td>0.356924</td>\n",
              "      <td>white</td>\n",
              "      <td>Ghost</td>\n",
              "    </tr>\n",
              "    <tr>\n",
              "      <th>4</th>\n",
              "      <td>13</td>\n",
              "      <td>0.361762</td>\n",
              "      <td>0.583997</td>\n",
              "      <td>0.377256</td>\n",
              "      <td>0.276364</td>\n",
              "      <td>black</td>\n",
              "      <td>Ghost</td>\n",
              "    </tr>\n",
              "    <tr>\n",
              "      <th>...</th>\n",
              "      <td>...</td>\n",
              "      <td>...</td>\n",
              "      <td>...</td>\n",
              "      <td>...</td>\n",
              "      <td>...</td>\n",
              "      <td>...</td>\n",
              "      <td>...</td>\n",
              "    </tr>\n",
              "    <tr>\n",
              "      <th>524</th>\n",
              "      <td>893</td>\n",
              "      <td>0.377573</td>\n",
              "      <td>0.390158</td>\n",
              "      <td>0.696465</td>\n",
              "      <td>0.355373</td>\n",
              "      <td>blue</td>\n",
              "      <td>Goblin</td>\n",
              "    </tr>\n",
              "    <tr>\n",
              "      <th>525</th>\n",
              "      <td>894</td>\n",
              "      <td>0.229161</td>\n",
              "      <td>0.601265</td>\n",
              "      <td>0.191282</td>\n",
              "      <td>0.475115</td>\n",
              "      <td>clear</td>\n",
              "      <td>Ghost</td>\n",
              "    </tr>\n",
              "    <tr>\n",
              "      <th>526</th>\n",
              "      <td>895</td>\n",
              "      <td>0.510497</td>\n",
              "      <td>0.498347</td>\n",
              "      <td>0.708020</td>\n",
              "      <td>0.714154</td>\n",
              "      <td>white</td>\n",
              "      <td>Ghoul</td>\n",
              "    </tr>\n",
              "    <tr>\n",
              "      <th>527</th>\n",
              "      <td>898</td>\n",
              "      <td>0.331472</td>\n",
              "      <td>0.765835</td>\n",
              "      <td>0.338207</td>\n",
              "      <td>0.193431</td>\n",
              "      <td>clear</td>\n",
              "      <td>Ghost</td>\n",
              "    </tr>\n",
              "    <tr>\n",
              "      <th>528</th>\n",
              "      <td>899</td>\n",
              "      <td>0.256789</td>\n",
              "      <td>0.691802</td>\n",
              "      <td>0.415197</td>\n",
              "      <td>0.348971</td>\n",
              "      <td>white</td>\n",
              "      <td>Ghost</td>\n",
              "    </tr>\n",
              "  </tbody>\n",
              "</table>\n",
              "<p>529 rows × 7 columns</p>\n",
              "</div>"
            ],
            "text/plain": [
              "      id  bone_length  rotting_flesh  hair_length  has_soul  color    type\n",
              "0      3     0.471774       0.387937     0.706087  0.698537  black   Ghoul\n",
              "1      6     0.427332       0.645024     0.565558  0.451462  white  Goblin\n",
              "2      9     0.549602       0.491931     0.660387  0.449809  black   Ghoul\n",
              "3     10     0.638095       0.682867     0.471409  0.356924  white   Ghost\n",
              "4     13     0.361762       0.583997     0.377256  0.276364  black   Ghost\n",
              "..   ...          ...            ...          ...       ...    ...     ...\n",
              "524  893     0.377573       0.390158     0.696465  0.355373   blue  Goblin\n",
              "525  894     0.229161       0.601265     0.191282  0.475115  clear   Ghost\n",
              "526  895     0.510497       0.498347     0.708020  0.714154  white   Ghoul\n",
              "527  898     0.331472       0.765835     0.338207  0.193431  clear   Ghost\n",
              "528  899     0.256789       0.691802     0.415197  0.348971  white   Ghost\n",
              "\n",
              "[529 rows x 7 columns]"
            ]
          },
          "metadata": {
            "tags": []
          },
          "execution_count": 54
        }
      ]
    },
    {
      "cell_type": "code",
      "metadata": {
        "id": "lY-vU8k2oNlz",
        "colab_type": "code",
        "colab": {}
      },
      "source": [
        "#IMPORTANDDO PARA O COMPUTADOR\n",
        "from google.colab import files\n",
        "data2.loc[:,['id', 'type']].to_csv('ggg_test.csv', index = False)\n",
        "#files.download('ggg_test.csv')"
      ],
      "execution_count": 0,
      "outputs": []
    },
    {
      "cell_type": "markdown",
      "metadata": {
        "id": "LoRVYhgGJ13z",
        "colab_type": "text"
      },
      "source": [
        "\n",
        "Análise dos Resultados (matriz de confusão)"
      ]
    },
    {
      "cell_type": "code",
      "metadata": {
        "id": "HZgbAxkJJ1lO",
        "colab_type": "code",
        "colab": {}
      },
      "source": [
        "#nayve bayes\n",
        "from sklearn.metrics import confusion_matrix\n",
        "\n",
        "mat_bayes = confusion_matrix(ytest, y_model_bayes) "
      ],
      "execution_count": 0,
      "outputs": []
    },
    {
      "cell_type": "code",
      "metadata": {
        "id": "nCUMEcz-J6Xu",
        "colab_type": "code",
        "outputId": "ef64ca16-c2b1-4cce-c9b8-acfc023cbed8",
        "colab": {
          "base_uri": "https://localhost:8080/",
          "height": 295
        }
      },
      "source": [
        "import matplotlib.pyplot as plt\n",
        "\n",
        "sns.heatmap(mat_bayes, square=True, annot = True)\n",
        "plt.xlabel('Valores Preditos')\n",
        "plt.ylabel('Valores Reais')"
      ],
      "execution_count": 0,
      "outputs": [
        {
          "output_type": "execute_result",
          "data": {
            "text/plain": [
              "Text(83.40000000000006, 0.5, 'Valores Reais')"
            ]
          },
          "metadata": {
            "tags": []
          },
          "execution_count": 47
        },
        {
          "output_type": "display_data",
          "data": {
            "image/png": "[encoded data removed]",
            "text/plain": [
              "<Figure size 432x288 with 2 Axes>"
            ]
          },
          "metadata": {
            "tags": [],
            "needs_background": "light"
          }
        }
      ]
    }
  ]
}