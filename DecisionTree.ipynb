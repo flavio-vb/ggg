{
  "nbformat": 4,
  "nbformat_minor": 0,
  "metadata": {
    "colab": {
      "name": "DecisionTree.ipynb",
      "provenance": [],
      "collapsed_sections": [],
      "toc_visible": true
    },
    "kernelspec": {
      "name": "python3",
      "display_name": "Python 3"
    }
  },
  "cells": [
    {
      "cell_type": "code",
      "metadata": {
        "id": "DnvnF4ol5CL5",
        "colab_type": "code",
        "outputId": "0a178669-16a7-4eef-cb4d-351ce566c31a",
        "colab": {
          "base_uri": "https://localhost:8080/",
          "height": 419
        }
      },
      "source": [
        "%matplotlib inline\n",
        "\n",
        "import pandas as pd\n",
        "import matplotlib.pyplot as plt\n",
        "import seaborn as sns\n",
        "\n",
        "data2 = pd.read_csv(\"test.csv\")\n",
        "data1 = pd.read_csv(\"train.csv\")\n",
        "data1"
      ],
      "execution_count": 0,
      "outputs": [
        {
          "output_type": "execute_result",
          "data": {
            "text/html": [
              "<div>\n",
              "<style scoped>\n",
              "    .dataframe tbody tr th:only-of-type {\n",
              "        vertical-align: middle;\n",
              "    }\n",
              "\n",
              "    .dataframe tbody tr th {\n",
              "        vertical-align: top;\n",
              "    }\n",
              "\n",
              "    .dataframe thead th {\n",
              "        text-align: right;\n",
              "    }\n",
              "</style>\n",
              "<table border=\"1\" class=\"dataframe\">\n",
              "  <thead>\n",
              "    <tr style=\"text-align: right;\">\n",
              "      <th></th>\n",
              "      <th>id</th>\n",
              "      <th>bone_length</th>\n",
              "      <th>rotting_flesh</th>\n",
              "      <th>hair_length</th>\n",
              "      <th>has_soul</th>\n",
              "      <th>color</th>\n",
              "      <th>type</th>\n",
              "    </tr>\n",
              "  </thead>\n",
              "  <tbody>\n",
              "    <tr>\n",
              "      <th>0</th>\n",
              "      <td>0</td>\n",
              "      <td>0.354512</td>\n",
              "      <td>0.350839</td>\n",
              "      <td>0.465761</td>\n",
              "      <td>0.781142</td>\n",
              "      <td>clear</td>\n",
              "      <td>Ghoul</td>\n",
              "    </tr>\n",
              "    <tr>\n",
              "      <th>1</th>\n",
              "      <td>1</td>\n",
              "      <td>0.575560</td>\n",
              "      <td>0.425868</td>\n",
              "      <td>0.531401</td>\n",
              "      <td>0.439899</td>\n",
              "      <td>green</td>\n",
              "      <td>Goblin</td>\n",
              "    </tr>\n",
              "    <tr>\n",
              "      <th>2</th>\n",
              "      <td>2</td>\n",
              "      <td>0.467875</td>\n",
              "      <td>0.354330</td>\n",
              "      <td>0.811616</td>\n",
              "      <td>0.791225</td>\n",
              "      <td>black</td>\n",
              "      <td>Ghoul</td>\n",
              "    </tr>\n",
              "    <tr>\n",
              "      <th>3</th>\n",
              "      <td>4</td>\n",
              "      <td>0.776652</td>\n",
              "      <td>0.508723</td>\n",
              "      <td>0.636766</td>\n",
              "      <td>0.884464</td>\n",
              "      <td>black</td>\n",
              "      <td>Ghoul</td>\n",
              "    </tr>\n",
              "    <tr>\n",
              "      <th>4</th>\n",
              "      <td>5</td>\n",
              "      <td>0.566117</td>\n",
              "      <td>0.875862</td>\n",
              "      <td>0.418594</td>\n",
              "      <td>0.636438</td>\n",
              "      <td>green</td>\n",
              "      <td>Ghost</td>\n",
              "    </tr>\n",
              "    <tr>\n",
              "      <th>...</th>\n",
              "      <td>...</td>\n",
              "      <td>...</td>\n",
              "      <td>...</td>\n",
              "      <td>...</td>\n",
              "      <td>...</td>\n",
              "      <td>...</td>\n",
              "      <td>...</td>\n",
              "    </tr>\n",
              "    <tr>\n",
              "      <th>366</th>\n",
              "      <td>886</td>\n",
              "      <td>0.458132</td>\n",
              "      <td>0.391760</td>\n",
              "      <td>0.660590</td>\n",
              "      <td>0.635689</td>\n",
              "      <td>blue</td>\n",
              "      <td>Goblin</td>\n",
              "    </tr>\n",
              "    <tr>\n",
              "      <th>367</th>\n",
              "      <td>889</td>\n",
              "      <td>0.331936</td>\n",
              "      <td>0.564836</td>\n",
              "      <td>0.539216</td>\n",
              "      <td>0.551471</td>\n",
              "      <td>green</td>\n",
              "      <td>Ghost</td>\n",
              "    </tr>\n",
              "    <tr>\n",
              "      <th>368</th>\n",
              "      <td>890</td>\n",
              "      <td>0.481640</td>\n",
              "      <td>0.501147</td>\n",
              "      <td>0.496446</td>\n",
              "      <td>0.544003</td>\n",
              "      <td>clear</td>\n",
              "      <td>Ghoul</td>\n",
              "    </tr>\n",
              "    <tr>\n",
              "      <th>369</th>\n",
              "      <td>896</td>\n",
              "      <td>0.294943</td>\n",
              "      <td>0.771286</td>\n",
              "      <td>0.583503</td>\n",
              "      <td>0.300618</td>\n",
              "      <td>clear</td>\n",
              "      <td>Ghost</td>\n",
              "    </tr>\n",
              "    <tr>\n",
              "      <th>370</th>\n",
              "      <td>897</td>\n",
              "      <td>0.670200</td>\n",
              "      <td>0.768469</td>\n",
              "      <td>0.737274</td>\n",
              "      <td>0.608384</td>\n",
              "      <td>white</td>\n",
              "      <td>Ghoul</td>\n",
              "    </tr>\n",
              "  </tbody>\n",
              "</table>\n",
              "<p>371 rows × 7 columns</p>\n",
              "</div>"
            ],
            "text/plain": [
              "      id  bone_length  rotting_flesh  hair_length  has_soul  color    type\n",
              "0      0     0.354512       0.350839     0.465761  0.781142  clear   Ghoul\n",
              "1      1     0.575560       0.425868     0.531401  0.439899  green  Goblin\n",
              "2      2     0.467875       0.354330     0.811616  0.791225  black   Ghoul\n",
              "3      4     0.776652       0.508723     0.636766  0.884464  black   Ghoul\n",
              "4      5     0.566117       0.875862     0.418594  0.636438  green   Ghost\n",
              "..   ...          ...            ...          ...       ...    ...     ...\n",
              "366  886     0.458132       0.391760     0.660590  0.635689   blue  Goblin\n",
              "367  889     0.331936       0.564836     0.539216  0.551471  green   Ghost\n",
              "368  890     0.481640       0.501147     0.496446  0.544003  clear   Ghoul\n",
              "369  896     0.294943       0.771286     0.583503  0.300618  clear   Ghost\n",
              "370  897     0.670200       0.768469     0.737274  0.608384  white   Ghoul\n",
              "\n",
              "[371 rows x 7 columns]"
            ]
          },
          "metadata": {
            "tags": []
          },
          "execution_count": 49
        }
      ]
    },
    {
      "cell_type": "code",
      "metadata": {
        "id": "W9umH4Wm8X-r",
        "colab_type": "code",
        "outputId": "6a6753aa-fe46-4e56-e03e-5e21b4acf011",
        "colab": {
          "base_uri": "https://localhost:8080/",
          "height": 255
        }
      },
      "source": [
        "data1.info()"
      ],
      "execution_count": 0,
      "outputs": [
        {
          "output_type": "stream",
          "text": [
            "<class 'pandas.core.frame.DataFrame'>\n",
            "RangeIndex: 371 entries, 0 to 370\n",
            "Data columns (total 7 columns):\n",
            " #   Column         Non-Null Count  Dtype  \n",
            "---  ------         --------------  -----  \n",
            " 0   id             371 non-null    int64  \n",
            " 1   bone_length    371 non-null    float64\n",
            " 2   rotting_flesh  371 non-null    float64\n",
            " 3   hair_length    371 non-null    float64\n",
            " 4   has_soul       371 non-null    float64\n",
            " 5   color          371 non-null    object \n",
            " 6   type           371 non-null    object \n",
            "dtypes: float64(4), int64(1), object(2)\n",
            "memory usage: 20.4+ KB\n"
          ],
          "name": "stdout"
        }
      ]
    },
    {
      "cell_type": "code",
      "metadata": {
        "id": "_6utOTki8-b2",
        "colab_type": "code",
        "outputId": "2a83442c-6e0e-4a88-9eef-6008eb16ffa2",
        "colab": {
          "base_uri": "https://localhost:8080/",
          "height": 296
        }
      },
      "source": [
        "sns.countplot(x='type', data=data1)\n",
        "#é notável que a quantidade de cada monstro é equilibrada, porém o monstro que mais aparece são ghouls"
      ],
      "execution_count": 0,
      "outputs": [
        {
          "output_type": "execute_result",
          "data": {
            "text/plain": [
              "<matplotlib.axes._subplots.AxesSubplot at 0x7f0bffc2f860>"
            ]
          },
          "metadata": {
            "tags": []
          },
          "execution_count": 51
        },
        {
          "output_type": "display_data",
          "data": {
            "image/png": "[encoded data removed]",
            "text/plain": [
              "<Figure size 432x288 with 1 Axes>"
            ]
          },
          "metadata": {
            "tags": [],
            "needs_background": "light"
          }
        }
      ]
    },
    {
      "cell_type": "code",
      "metadata": {
        "id": "bipWQZCh_D8X",
        "colab_type": "code",
        "outputId": "5786ed31-0794-48a2-c687-d08a976adc10",
        "colab": {
          "base_uri": "https://localhost:8080/",
          "height": 325
        }
      },
      "source": [
        "sns.factorplot(x='type', col='color', kind='count', data=data1)\n",
        "#a partir desses gráficosse torna nítido como não podemos definir um monstro por cor"
      ],
      "execution_count": 0,
      "outputs": [
        {
          "output_type": "stream",
          "text": [
            "/usr/local/lib/python3.6/dist-packages/seaborn/categorical.py:3666: UserWarning: The `factorplot` function has been renamed to `catplot`. The original name will be removed in a future release. Please update your code. Note that the default `kind` in `factorplot` (`'point'`) has changed `'strip'` in `catplot`.\n",
            "  warnings.warn(msg)\n"
          ],
          "name": "stderr"
        },
        {
          "output_type": "execute_result",
          "data": {
            "text/plain": [
              "<seaborn.axisgrid.FacetGrid at 0x7f0bffc2fba8>"
            ]
          },
          "metadata": {
            "tags": []
          },
          "execution_count": 52
        },
        {
          "output_type": "display_data",
          "data": {
            "image/png": "[encoded data removed]",
            "text/plain": [
              "<Figure size 2160x360 with 6 Axes>"
            ]
          },
          "metadata": {
            "tags": [],
            "needs_background": "light"
          }
        }
      ]
    },
    {
      "cell_type": "code",
      "metadata": {
        "id": "GtNiZu8LAAo3",
        "colab_type": "code",
        "outputId": "c50aab24-5b2c-431c-fb46-6c2af01eabcf",
        "colab": {
          "base_uri": "https://localhost:8080/",
          "height": 297
        }
      },
      "source": [
        "data1.plot.scatter(x='bone_length', y='type')\n",
        "#atraves desse grafico vemos que todos os monstros com menos de 0,2 de bone_length são fantasmas\n",
        "#também é notável que todos os monstros com mais de 0,7 de bone_length são canibais"
      ],
      "execution_count": 0,
      "outputs": [
        {
          "output_type": "execute_result",
          "data": {
            "text/plain": [
              "<matplotlib.axes._subplots.AxesSubplot at 0x7f0bff9bcbe0>"
            ]
          },
          "metadata": {
            "tags": []
          },
          "execution_count": 53
        },
        {
          "output_type": "display_data",
          "data": {
            "image/png": "[encoded data removed]",
            "text/plain": [
              "<Figure size 432x288 with 1 Axes>"
            ]
          },
          "metadata": {
            "tags": [],
            "needs_background": "light"
          }
        }
      ]
    },
    {
      "cell_type": "code",
      "metadata": {
        "id": "VdsDnkvDCSX9",
        "colab_type": "code",
        "outputId": "2c83b08d-e682-4f00-c72e-e7dcf1a87285",
        "colab": {
          "base_uri": "https://localhost:8080/",
          "height": 297
        }
      },
      "source": [
        "data1.plot.scatter(x='rotting_flesh', y='type') \n",
        "#atraves desse grafico vemos que todos os monstros com menos de 0,15 de rooting flesh são goblins\n",
        "#também é notável que todos os monstros com mais de 0,85 de bone_length são fantasmas"
      ],
      "execution_count": 0,
      "outputs": [
        {
          "output_type": "execute_result",
          "data": {
            "text/plain": [
              "<matplotlib.axes._subplots.AxesSubplot at 0x7f0bff919a90>"
            ]
          },
          "metadata": {
            "tags": []
          },
          "execution_count": 54
        },
        {
          "output_type": "display_data",
          "data": {
            "image/png": "[encoded data removed]",
            "text/plain": [
              "<Figure size 432x288 with 1 Axes>"
            ]
          },
          "metadata": {
            "tags": [],
            "needs_background": "light"
          }
        }
      ]
    },
    {
      "cell_type": "code",
      "metadata": {
        "id": "aO4g41H4Cl7I",
        "colab_type": "code",
        "outputId": "276fb6c6-c83f-4b34-fa11-ef6e667e36af",
        "colab": {
          "base_uri": "https://localhost:8080/",
          "height": 297
        }
      },
      "source": [
        "data1.plot.scatter(x='hair_length', y='type')\n",
        "#atraves desse grafico vemos que todos os monstros com menos de 0,2 de hair length são fantasmas\n",
        "#também é notável que todos os monstros com mais de 0,85 de hair length são canibais"
      ],
      "execution_count": 0,
      "outputs": [
        {
          "output_type": "execute_result",
          "data": {
            "text/plain": [
              "<matplotlib.axes._subplots.AxesSubplot at 0x7f349151eb38>"
            ]
          },
          "metadata": {
            "tags": []
          },
          "execution_count": 21
        },
        {
          "output_type": "display_data",
          "data": {
            "image/png": "[encoded data removed]",
            "text/plain": [
              "<Figure size 432x288 with 1 Axes>"
            ]
          },
          "metadata": {
            "tags": []
          }
        }
      ]
    },
    {
      "cell_type": "code",
      "metadata": {
        "id": "KLZxRnjiCzyr",
        "colab_type": "code",
        "outputId": "3a280789-5613-4d11-b0ef-dc737a40946c",
        "colab": {
          "base_uri": "https://localhost:8080/",
          "height": 297
        }
      },
      "source": [
        "data1.plot.scatter(x='has_soul', y='type')\n",
        "#atraves desse grafico vemos que todos os monstros com menos de 0,15 de has_soul são fantasmas\n",
        "#também é notável que todos os monstros com mais de 0,85 de has_soul são canibais"
      ],
      "execution_count": 0,
      "outputs": [
        {
          "output_type": "execute_result",
          "data": {
            "text/plain": [
              "<matplotlib.axes._subplots.AxesSubplot at 0x7f34914eaef0>"
            ]
          },
          "metadata": {
            "tags": []
          },
          "execution_count": 22
        },
        {
          "output_type": "display_data",
          "data": {
            "image/png": "[encoded data removed]",
            "text/plain": [
              "<Figure size 432x288 with 1 Axes>"
            ]
          },
          "metadata": {
            "tags": []
          }
        }
      ]
    },
    {
      "cell_type": "code",
      "metadata": {
        "id": "mDyhm8Zc9Gxx",
        "colab_type": "code",
        "colab": {}
      },
      "source": [
        "from google.colab import files\n",
        "data2['type']= 'Ghoul'\n",
        "#monstro que mais aparece\n",
        "\n",
        "#dados sobre o tamanho do osso\n",
        "data2_length = data2[data2.bone_length<0.2]\n",
        "data2_length_ids = data2_length['id'].tolist()\n",
        "data2.loc[data2['id'].isin(data2_length_ids), 'type'] = 'Ghost'\n",
        "\n",
        "data2_length = data2[data2.bone_length>0.7]\n",
        "data2_length_ids = data2_length['id'].tolist()\n",
        "data2.loc[data2['id'].isin(data2_length_ids), 'type'] = 'Ghoul'\n",
        "\n",
        "#dados sobre a carne podre\n",
        "data2_length = data2[data2.rotting_flesh<0.15]\n",
        "data2_length_ids = data2_length['id'].tolist()\n",
        "data2.loc[data2['id'].isin(data2_length_ids), 'type'] = 'Goblin'\n",
        "\n",
        "data2_length = data2[data2.rotting_flesh>0.85]\n",
        "data2_length_ids = data2_length['id'].tolist()\n",
        "data2.loc[data2['id'].isin(data2_length_ids), 'type'] = 'Ghost'\n",
        "\n",
        "#dados sobre o tamanho do cabelo\n",
        "data2_length = data2[data2.hair_length<0.2]\n",
        "data2_length_ids = data2_length['id'].tolist()\n",
        "data2.loc[data2['id'].isin(data2_length_ids), 'type'] = 'Ghost'\n",
        "\n",
        "data2_length = data2[data2.hair_length>0.85]\n",
        "data2_length_ids = data2_length['id'].tolist()\n",
        "data2.loc[data2['id'].isin(data2_length_ids), 'type'] = 'Ghoul'\n",
        "\n",
        "#dados sobre a quantidade de alma\n",
        "data2_length = data2[data2.has_soul<0.15]\n",
        "data2_length_ids = data2_length['id'].tolist()\n",
        "data2.loc[data2['id'].isin(data2_length_ids), 'type'] = 'Ghost'\n",
        "\n",
        "data2_length = data2[data2.has_soul>0.85]\n",
        "data2_length_ids = data2_length['id'].tolist()\n",
        "data2.loc[data2['id'].isin(data2_length_ids), 'type'] = 'Ghoul'\n",
        "\n",
        "data2.loc[:,['id', 'type']].to_csv('ggg_test.csv', index = False)\n",
        "#files.download('ggg_test.csv')\n",
        "\n",
        "data2"
      ],
      "execution_count": 0,
      "outputs": []
    },
    {
      "cell_type": "code",
      "metadata": {
        "id": "9y1Gz2HPez-U",
        "colab_type": "code",
        "outputId": "be832e63-1279-4e0b-fd24-39e780a81b57",
        "colab": {
          "base_uri": "https://localhost:8080/",
          "height": 419
        }
      },
      "source": [
        "ggg = pd.read_csv(\"ggg_test.csv\")\n",
        "ggg"
      ],
      "execution_count": 0,
      "outputs": [
        {
          "output_type": "execute_result",
          "data": {
            "text/html": [
              "<div>\n",
              "<style scoped>\n",
              "    .dataframe tbody tr th:only-of-type {\n",
              "        vertical-align: middle;\n",
              "    }\n",
              "\n",
              "    .dataframe tbody tr th {\n",
              "        vertical-align: top;\n",
              "    }\n",
              "\n",
              "    .dataframe thead th {\n",
              "        text-align: right;\n",
              "    }\n",
              "</style>\n",
              "<table border=\"1\" class=\"dataframe\">\n",
              "  <thead>\n",
              "    <tr style=\"text-align: right;\">\n",
              "      <th></th>\n",
              "      <th>id</th>\n",
              "      <th>type</th>\n",
              "    </tr>\n",
              "  </thead>\n",
              "  <tbody>\n",
              "    <tr>\n",
              "      <th>0</th>\n",
              "      <td>3</td>\n",
              "      <td>Ghoul</td>\n",
              "    </tr>\n",
              "    <tr>\n",
              "      <th>1</th>\n",
              "      <td>6</td>\n",
              "      <td>Ghoul</td>\n",
              "    </tr>\n",
              "    <tr>\n",
              "      <th>2</th>\n",
              "      <td>9</td>\n",
              "      <td>Ghoul</td>\n",
              "    </tr>\n",
              "    <tr>\n",
              "      <th>3</th>\n",
              "      <td>10</td>\n",
              "      <td>Ghoul</td>\n",
              "    </tr>\n",
              "    <tr>\n",
              "      <th>4</th>\n",
              "      <td>13</td>\n",
              "      <td>Ghoul</td>\n",
              "    </tr>\n",
              "    <tr>\n",
              "      <th>...</th>\n",
              "      <td>...</td>\n",
              "      <td>...</td>\n",
              "    </tr>\n",
              "    <tr>\n",
              "      <th>524</th>\n",
              "      <td>893</td>\n",
              "      <td>Ghoul</td>\n",
              "    </tr>\n",
              "    <tr>\n",
              "      <th>525</th>\n",
              "      <td>894</td>\n",
              "      <td>Ghost</td>\n",
              "    </tr>\n",
              "    <tr>\n",
              "      <th>526</th>\n",
              "      <td>895</td>\n",
              "      <td>Ghoul</td>\n",
              "    </tr>\n",
              "    <tr>\n",
              "      <th>527</th>\n",
              "      <td>898</td>\n",
              "      <td>Ghoul</td>\n",
              "    </tr>\n",
              "    <tr>\n",
              "      <th>528</th>\n",
              "      <td>899</td>\n",
              "      <td>Ghoul</td>\n",
              "    </tr>\n",
              "  </tbody>\n",
              "</table>\n",
              "<p>529 rows × 2 columns</p>\n",
              "</div>"
            ],
            "text/plain": [
              "      id   type\n",
              "0      3  Ghoul\n",
              "1      6  Ghoul\n",
              "2      9  Ghoul\n",
              "3     10  Ghoul\n",
              "4     13  Ghoul\n",
              "..   ...    ...\n",
              "524  893  Ghoul\n",
              "525  894  Ghost\n",
              "526  895  Ghoul\n",
              "527  898  Ghoul\n",
              "528  899  Ghoul\n",
              "\n",
              "[529 rows x 2 columns]"
            ]
          },
          "metadata": {
            "tags": []
          },
          "execution_count": 57
        }
      ]
    },
    {
      "cell_type": "markdown",
      "metadata": {
        "id": "4IcWhGSOoqSY",
        "colab_type": "text"
      },
      "source": [
        "#Regressão Logística - Classificação\n"
      ]
    },
    {
      "cell_type": "code",
      "metadata": {
        "id": "XUUL8ZpvhwqP",
        "colab_type": "code",
        "colab": {}
      },
      "source": [
        "\n",
        "from sklearn.tree import DecisionTreeClassifier       # 1. Escolha do modelo.\n",
        "model_tree = DecisionTreeClassifier()                 # 2. Escolha dos hiperparâmetros e intanciação."
      ],
      "execution_count": 0,
      "outputs": []
    },
    {
      "cell_type": "code",
      "metadata": {
        "id": "_stbGTU8iq-N",
        "colab_type": "code",
        "outputId": "a20c2a44-875d-4c06-d59d-a09637d86b3b",
        "colab": {
          "base_uri": "https://localhost:8080/",
          "height": 204
        }
      },
      "source": [
        "#Feature Matrix\n",
        "x_ggg = data1.loc[: ,  [\"bone_length\",\t\"rotting_flesh\", \"hair_length\",\t\"has_soul\"\t] ]\n",
        "x_ggg.head()"
      ],
      "execution_count": 0,
      "outputs": [
        {
          "output_type": "execute_result",
          "data": {
            "text/html": [
              "<div>\n",
              "<style scoped>\n",
              "    .dataframe tbody tr th:only-of-type {\n",
              "        vertical-align: middle;\n",
              "    }\n",
              "\n",
              "    .dataframe tbody tr th {\n",
              "        vertical-align: top;\n",
              "    }\n",
              "\n",
              "    .dataframe thead th {\n",
              "        text-align: right;\n",
              "    }\n",
              "</style>\n",
              "<table border=\"1\" class=\"dataframe\">\n",
              "  <thead>\n",
              "    <tr style=\"text-align: right;\">\n",
              "      <th></th>\n",
              "      <th>bone_length</th>\n",
              "      <th>rotting_flesh</th>\n",
              "      <th>hair_length</th>\n",
              "      <th>has_soul</th>\n",
              "    </tr>\n",
              "  </thead>\n",
              "  <tbody>\n",
              "    <tr>\n",
              "      <th>0</th>\n",
              "      <td>0.354512</td>\n",
              "      <td>0.350839</td>\n",
              "      <td>0.465761</td>\n",
              "      <td>0.781142</td>\n",
              "    </tr>\n",
              "    <tr>\n",
              "      <th>1</th>\n",
              "      <td>0.575560</td>\n",
              "      <td>0.425868</td>\n",
              "      <td>0.531401</td>\n",
              "      <td>0.439899</td>\n",
              "    </tr>\n",
              "    <tr>\n",
              "      <th>2</th>\n",
              "      <td>0.467875</td>\n",
              "      <td>0.354330</td>\n",
              "      <td>0.811616</td>\n",
              "      <td>0.791225</td>\n",
              "    </tr>\n",
              "    <tr>\n",
              "      <th>3</th>\n",
              "      <td>0.776652</td>\n",
              "      <td>0.508723</td>\n",
              "      <td>0.636766</td>\n",
              "      <td>0.884464</td>\n",
              "    </tr>\n",
              "    <tr>\n",
              "      <th>4</th>\n",
              "      <td>0.566117</td>\n",
              "      <td>0.875862</td>\n",
              "      <td>0.418594</td>\n",
              "      <td>0.636438</td>\n",
              "    </tr>\n",
              "  </tbody>\n",
              "</table>\n",
              "</div>"
            ],
            "text/plain": [
              "   bone_length  rotting_flesh  hair_length  has_soul\n",
              "0     0.354512       0.350839     0.465761  0.781142\n",
              "1     0.575560       0.425868     0.531401  0.439899\n",
              "2     0.467875       0.354330     0.811616  0.791225\n",
              "3     0.776652       0.508723     0.636766  0.884464\n",
              "4     0.566117       0.875862     0.418594  0.636438"
            ]
          },
          "metadata": {
            "tags": []
          },
          "execution_count": 59
        }
      ]
    },
    {
      "cell_type": "code",
      "metadata": {
        "id": "QK6xX364jRDr",
        "colab_type": "code",
        "outputId": "02ae2ba4-8fe6-4553-aa6b-81b50808d68e",
        "colab": {
          "base_uri": "https://localhost:8080/",
          "height": 119
        }
      },
      "source": [
        "#Target Array\n",
        "y_ggg = data1.type\n",
        "y_ggg.head()"
      ],
      "execution_count": 0,
      "outputs": [
        {
          "output_type": "execute_result",
          "data": {
            "text/plain": [
              "0     Ghoul\n",
              "1    Goblin\n",
              "2     Ghoul\n",
              "3     Ghoul\n",
              "4     Ghost\n",
              "Name: type, dtype: object"
            ]
          },
          "metadata": {
            "tags": []
          },
          "execution_count": 60
        }
      ]
    },
    {
      "cell_type": "code",
      "metadata": {
        "id": "t-YA_AbjjdlW",
        "colab_type": "code",
        "colab": {}
      },
      "source": [
        "#Separação do Banco de Dados\n",
        "from sklearn.model_selection import train_test_split\n",
        "xtrain, xtest, ytrain, ytest = train_test_split(x_ggg, y_ggg, random_state=2020)"
      ],
      "execution_count": 0,
      "outputs": []
    },
    {
      "cell_type": "code",
      "metadata": {
        "id": "VaKwI3nek5o8",
        "colab_type": "code",
        "outputId": "34b9a1b3-e3aa-4b0a-89e1-0bd0e39bd00f",
        "colab": {
          "base_uri": "https://localhost:8080/",
          "height": 119
        }
      },
      "source": [
        "# Ajuste o modelo aos dados *\n",
        "model_tree.fit(xtrain, ytrain)"
      ],
      "execution_count": 0,
      "outputs": [
        {
          "output_type": "execute_result",
          "data": {
            "text/plain": [
              "DecisionTreeClassifier(ccp_alpha=0.0, class_weight=None, criterion='gini',\n",
              "                       max_depth=None, max_features=None, max_leaf_nodes=None,\n",
              "                       min_impurity_decrease=0.0, min_impurity_split=None,\n",
              "                       min_samples_leaf=1, min_samples_split=2,\n",
              "                       min_weight_fraction_leaf=0.0, presort='deprecated',\n",
              "                       random_state=None, splitter='best')"
            ]
          },
          "metadata": {
            "tags": []
          },
          "execution_count": 62
        }
      ]
    },
    {
      "cell_type": "code",
      "metadata": {
        "id": "Mc_CaCuTlSEX",
        "colab_type": "code",
        "colab": {}
      },
      "source": [
        "#Faça predições em dados novos *\n",
        "y_model_tree = model_tree.predict(xtest)"
      ],
      "execution_count": 0,
      "outputs": []
    },
    {
      "cell_type": "code",
      "metadata": {
        "id": "eN3ml0NflY5E",
        "colab_type": "code",
        "outputId": "460719a1-d290-4a18-a163-a368ae0331f8",
        "colab": {
          "base_uri": "https://localhost:8080/",
          "height": 255
        }
      },
      "source": [
        "y_model_tree"
      ],
      "execution_count": 0,
      "outputs": [
        {
          "output_type": "execute_result",
          "data": {
            "text/plain": [
              "array(['Goblin', 'Ghoul', 'Ghoul', 'Ghoul', 'Ghoul', 'Ghost', 'Ghoul',\n",
              "       'Ghoul', 'Goblin', 'Ghost', 'Ghoul', 'Ghoul', 'Goblin', 'Goblin',\n",
              "       'Goblin', 'Ghost', 'Ghost', 'Ghoul', 'Goblin', 'Ghost', 'Ghoul',\n",
              "       'Ghoul', 'Ghoul', 'Goblin', 'Ghost', 'Goblin', 'Ghost', 'Ghoul',\n",
              "       'Ghost', 'Goblin', 'Ghoul', 'Ghoul', 'Goblin', 'Goblin', 'Ghost',\n",
              "       'Ghost', 'Ghoul', 'Ghoul', 'Ghost', 'Goblin', 'Ghoul', 'Ghost',\n",
              "       'Ghoul', 'Ghost', 'Goblin', 'Ghost', 'Ghoul', 'Ghoul', 'Ghost',\n",
              "       'Goblin', 'Ghoul', 'Goblin', 'Goblin', 'Ghoul', 'Ghost', 'Ghoul',\n",
              "       'Ghost', 'Goblin', 'Ghoul', 'Ghost', 'Goblin', 'Ghoul', 'Goblin',\n",
              "       'Ghost', 'Goblin', 'Ghost', 'Goblin', 'Ghost', 'Ghoul', 'Ghost',\n",
              "       'Goblin', 'Goblin', 'Ghost', 'Ghoul', 'Ghost', 'Goblin', 'Goblin',\n",
              "       'Ghost', 'Ghoul', 'Goblin', 'Ghoul', 'Ghoul', 'Ghost', 'Ghost',\n",
              "       'Ghost', 'Goblin', 'Ghost', 'Ghost', 'Ghost', 'Ghost', 'Ghost',\n",
              "       'Ghoul', 'Goblin'], dtype=object)"
            ]
          },
          "metadata": {
            "tags": []
          },
          "execution_count": 64
        }
      ]
    },
    {
      "cell_type": "code",
      "metadata": {
        "id": "pSsIsaGmlaMr",
        "colab_type": "code",
        "outputId": "c167ed65-e82a-4c2b-cb05-5cdd4af0dcf6",
        "colab": {
          "base_uri": "https://localhost:8080/",
          "height": 34
        }
      },
      "source": [
        "#SCORE ESPERADDO ATRAVES DO TREINO\n",
        "from sklearn.metrics import accuracy_score\n",
        "accuracy_score(ytest, y_model_tree)"
      ],
      "execution_count": 0,
      "outputs": [
        {
          "output_type": "execute_result",
          "data": {
            "text/plain": [
              "0.7311827956989247"
            ]
          },
          "metadata": {
            "tags": []
          },
          "execution_count": 67
        }
      ]
    },
    {
      "cell_type": "markdown",
      "metadata": {
        "id": "eTvliR_7CKsH",
        "colab_type": "text"
      },
      "source": [
        "#Análise dos Resultados (matriz de confusão) - Decision Tree"
      ]
    },
    {
      "cell_type": "code",
      "metadata": {
        "id": "QghzktADmLtc",
        "colab_type": "code",
        "colab": {}
      },
      "source": [
        "from sklearn.metrics import confusion_matrix\n",
        "\n",
        "mat = confusion_matrix(ytest, y_model_tree)"
      ],
      "execution_count": 0,
      "outputs": []
    },
    {
      "cell_type": "code",
      "metadata": {
        "id": "GdWAa6zymEN4",
        "colab_type": "code",
        "outputId": "3e9886ba-0e46-4524-a7b1-9d0d93c09029",
        "colab": {
          "base_uri": "https://localhost:8080/",
          "height": 296
        }
      },
      "source": [
        "import matplotlib.pyplot as plt\n",
        "\n",
        "sns.heatmap(mat, square = True, annot = True)\n",
        "plt.xlabel('Valores Preditos')\n",
        "plt.ylabel('Valores Reais')\n",
        "#Ex: 0 = Ghosts ; 1 = Goblin ; 2= Ghoul."
      ],
      "execution_count": 0,
      "outputs": [
        {
          "output_type": "execute_result",
          "data": {
            "text/plain": [
              "Text(83.40000000000006, 0.5, 'Valores Reais')"
            ]
          },
          "metadata": {
            "tags": []
          },
          "execution_count": 70
        },
        {
          "output_type": "display_data",
          "data": {
            "image/png": "[encoded data removed]",
            "text/plain": [
              "<Figure size 432x288 with 2 Axes>"
            ]
          },
          "metadata": {
            "tags": [],
            "needs_background": "light"
          }
        }
      ]
    }
  ]
}